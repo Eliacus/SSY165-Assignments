{
 "cells": [
  {
   "cell_type": "markdown",
   "metadata": {
    "deletable": false,
    "editable": false,
    "nbgrader": {
     "checksum": "dd27abe2b6419f03c509d066304c69f8",
     "grade": false,
     "grade_id": "cell-6ec5aa4507a8f918",
     "locked": true,
     "schema_version": 1,
     "solution": false
    }
   },
   "source": [
    "<center>\n",
    "\n",
    "# Discrete Event Systems\n",
    "\n",
    "## Home Assignment 3\n",
    "\n",
    "### Model Checking with $\\mu%$-Calculus\n",
    "\n",
    "- - -"
   ]
  },
  {
   "cell_type": "markdown",
   "metadata": {
    "deletable": false,
    "editable": false,
    "nbgrader": {
     "checksum": "542b28a7b41d947235e88e66fb39207b",
     "grade": false,
     "grade_id": "cell-d299ce342e54a4d8",
     "locked": true,
     "schema_version": 1,
     "solution": false
    }
   },
   "source": [
    "# Introduction\n",
    "\n",
    "The objective of this home assignment is to deepen the understanding of temporal logic specifications and model checking algorithms based on $\\mu$-calculus. You will achieve that through implementing a fixed-point algorithm for a particular _CTL*_ specification and test it out on a booking problem of variable size. \n",
    "\n",
    "This home assignment is performed in *two member groups*. Write all your answers into this notebook and **submit only this notebook (.ipynb) on Canvas**"
   ]
  },
  {
   "cell_type": "markdown",
   "metadata": {
    "deletable": false,
    "editable": false,
    "nbgrader": {
     "checksum": "336b3fe945504028be5712ddc34c3f76",
     "grade": false,
     "grade_id": "cell-8dfe6514b5b0e564",
     "locked": true,
     "schema_version": 1,
     "solution": false
    }
   },
   "source": [
    "## Comments and Recommendations\n",
    "Once again:\n",
    "* The following resources will be of great help to you for this assignment:\n",
    " * [Python docs](https://docs.python.org/3/)\n",
    " * [Google](https://www.google.com)\n",
    "* This assignment is written for Python 3.5 or later!\n",
    "* We will test your code with additional edge cases. So convince yourself that everything is correct before you submit.\n",
    "* This assignment makes use of the Python package [numpy](https://docs.scipy.org/doc/numpy/). Make sure to have it installed."
   ]
  },
  {
   "cell_type": "code",
   "execution_count": 1,
   "metadata": {
    "deletable": false,
    "editable": false,
    "nbgrader": {
     "checksum": "3d616b1851d3cd7ce07682b2a11704fe",
     "grade": false,
     "grade_id": "cell-d0ce19473bf6c277",
     "locked": true,
     "schema_version": 1,
     "solution": false
    }
   },
   "outputs": [],
   "source": [
    "try:\n",
    "    import numpy as np\n",
    "except ImportError:\n",
    "    print(\"You need to install numpy! Open a command prompt and run 'pip install numpy'\")"
   ]
  },
  {
   "cell_type": "markdown",
   "metadata": {
    "deletable": false,
    "editable": false,
    "nbgrader": {
     "checksum": "c1ff1490f5f6ed2f4bc2f7a407965184",
     "grade": false,
     "grade_id": "cell-14d9e8d5cc01d1b4",
     "locked": true,
     "schema_version": 1,
     "solution": false
    }
   },
   "source": [
    "- - -"
   ]
  },
  {
   "cell_type": "markdown",
   "metadata": {
    "deletable": false,
    "editable": false,
    "nbgrader": {
     "checksum": "2237a77b1a39103124a4c048333813fa",
     "grade": false,
     "grade_id": "cell-ba7f32f42fa9a7a2",
     "locked": true,
     "schema_version": 1,
     "solution": false
    }
   },
   "source": [
    "# Preliminaries\n",
    "\n",
    "In this assignment, we will work with a more general model for discrete event systems called __Transition System__. A transition system $G$ is defined by a 6-tuple $G = \\langle X, \\Sigma, T, I, AP, \\lambda \\rangle$ where $X$ is a set of states, $\\Sigma$ is a finite set of events, $T \\subseteq X \\times T \\times X$ is a transition relation, where a transition $t = (x, a, x') \\in T$, includes the source state $x$, the event label $a$, and the target state $x'$, $I \\subseteq X$ is a set of possible initial states, $AP$ is a set of atomic propositions, and $\\lambda: X \\mapsto 2^{AP}$ is a state labeling function. A transition system  $G$ without the state labels, where $AP$ and $\\lambda$ are excluded from $G$ is obviously an automaton without marked and forbidden states.\n",
    "\n",
    "In order to implement a data structure corresponding to a transition system, we introduce a new class of _State_ objects."
   ]
  },
  {
   "cell_type": "code",
   "execution_count": 2,
   "metadata": {
    "deletable": false,
    "editable": false,
    "nbgrader": {
     "checksum": "a3a7f5a3e13bd049835c89ceee79ded7",
     "grade": false,
     "grade_id": "cell-964ceab1ab198357",
     "locked": true,
     "schema_version": 1,
     "solution": false
    }
   },
   "outputs": [],
   "source": [
    "class State(object):\n",
    "    \n",
    "    def __init__(self, name, labels=None):\n",
    "        \"\"\"\n",
    "        Constructor  of the state.\n",
    "        \n",
    "        :param name: String. Default atomic proposition of the state\n",
    "        :param labels: Set of atomic propositions that a true in the state\n",
    "        \"\"\"\n",
    "        self.name = name\n",
    "        assert labels is None or type(labels) is set\n",
    "        self.labels = {name} if not labels else labels | {name}\n",
    "    \n",
    "    def __str__(self):\n",
    "        \"\"\"Prints the state in a pretty way.\"\"\"\n",
    "        return 'name: {} & ' \\\n",
    "               'labels: {}'.format(self.name, self.labels)\n",
    "        \n",
    "    def is_satisfied(self, atomic_proposition):\n",
    "        \"\"\"Checks whether the atomic proposition is statisfied in the state.\"\"\"\n",
    "        return atomic_proposition in self.labels"
   ]
  },
  {
   "cell_type": "markdown",
   "metadata": {
    "deletable": false,
    "editable": false,
    "nbgrader": {
     "checksum": "c2e89e2c94eacdc6ecf5dba2ed5eee72",
     "grade": false,
     "grade_id": "cell-6090d3bcb1270020",
     "locked": true,
     "schema_version": 1,
     "solution": false
    }
   },
   "source": [
    "That allows us to define the _TransitionSystem_ class:"
   ]
  },
  {
   "cell_type": "code",
   "execution_count": 3,
   "metadata": {
    "deletable": false,
    "editable": false,
    "nbgrader": {
     "checksum": "dc87ca70cf54415f8b39d6beebd8bb89",
     "grade": false,
     "grade_id": "cell-19c304b3869cd2f3",
     "locked": true,
     "schema_version": 1,
     "solution": false
    }
   },
   "outputs": [],
   "source": [
    "from util import Transition\n",
    "\n",
    "\n",
    "class TransitionSystem(object):\n",
    "\n",
    "    def __init__(self, states, init, events, trans):\n",
    "        \"\"\"\n",
    "        This is the constructor of the transition system.\n",
    "\n",
    "        At creation, the automaton gets the following attributes assigned:\n",
    "        :param states: A set of States\n",
    "        :param init: A set of initial States\n",
    "        :param events: A set of events\n",
    "        :param trans: A set of transitions\n",
    "        \"\"\"\n",
    "        assert isinstance(states, set)\n",
    "        self.states = states\n",
    "        assert isinstance(init, set)\n",
    "        self.init = init\n",
    "        assert isinstance(events, set)\n",
    "        self.events = events\n",
    "        assert isinstance(trans, set)\n",
    "        self.trans = trans\n",
    "\n",
    "    def __str__(self):\n",
    "        \"\"\"Prints the transition system in a pretty way.\"\"\"\n",
    "        states_str = '{\\n\\t' + ',\\n\\t'.join(\n",
    "            [str(s) for s in self.states]) + '\\n\\t}'\n",
    "        init_str = '{\\n\\t' + ', '.join([str(s.name) for s in self.init]) + '\\n\\t}'\n",
    "        trans_str = '\\n\\t'.join(\n",
    "            ['{} --{}--> {},'.format(t.source.name, t.event, t.target.name) for t in self.trans])\n",
    "        trans_str = '{\\n\\t' + trans_str + '\\n\\t}'\n",
    "        return 'states: \\n\\t{}\\n' \\\n",
    "               'init: \\n\\t{}\\n' \\\n",
    "               'events: \\n\\t{}\\n' \\\n",
    "               'transitions: \\n\\t{}\\n'.format(\n",
    "                   states_str, init_str, self.events, trans_str)\n",
    "\n",
    "    def __eq__(self, other):\n",
    "        \"\"\"Checks if two transition systems are the same\"\"\"\n",
    "        if type(other) is type(self):\n",
    "            return self.__dict__ == other.__dict__\n",
    "        return False"
   ]
  },
  {
   "cell_type": "markdown",
   "metadata": {
    "deletable": false,
    "editable": false,
    "nbgrader": {
     "checksum": "aa66a495b66c77b8f21cbc5f5fbbc65a",
     "grade": false,
     "grade_id": "cell-c87c22f4ffa2c66f",
     "locked": true,
     "schema_version": 1,
     "solution": false
    }
   },
   "source": [
    "Now, consider the Petri net $P_1$ of a booking problem that is shown below. \n",
    "![petri net](fig/petri_net.png)\n",
    "Two parallel processes require two resources $R_1$ and $R_2$ for their operations. Although appearing simple, this system may exhibit undesirable behavior. For the majority of the assignment we will work with this system. "
   ]
  },
  {
   "cell_type": "code",
   "execution_count": 4,
   "metadata": {
    "deletable": false,
    "editable": false,
    "nbgrader": {
     "checksum": "deb4937bf9cb64cc7b911d25a0fac01b",
     "grade": false,
     "grade_id": "cell-684c4512b1208778",
     "locked": true,
     "schema_version": 1,
     "solution": false
    }
   },
   "outputs": [],
   "source": [
    "from util import PetriNet\n",
    "from util import Place, Arc\n",
    "from util import plot_petrinet\n",
    "\n",
    "\n",
    "def make_petrinet(p11_tokens, p21_tokens, R1_tokens, R2_tokens):\n",
    "    return PetriNet(places=[Place('p11', p11_tokens), Place('p12', 0),\n",
    "                            Place('p21', p21_tokens), Place('p22', 0),\n",
    "                            Place('R1', R1_tokens), Place('R2', R2_tokens)],\n",
    "                    transitions={'a1', 'b1', 'a2', 'b2'},\n",
    "                    arcs={Arc('p11', 'a1', 1),\n",
    "                          Arc('a1', 'p12', 1),\n",
    "                          Arc('p12', 'b1', 1),\n",
    "                          Arc('b1', 'p11', 1),\n",
    "                          Arc('R1', 'a1', 1),\n",
    "                          Arc('R1', 'b2', 1),\n",
    "                          Arc('b1', 'R1', 1),\n",
    "                          Arc('b2', 'R1', 1),\n",
    "                          Arc('R2', 'a2', 1),\n",
    "                          Arc('R2', 'b1', 1),\n",
    "                          Arc('b1', 'R2', 1),\n",
    "                          Arc('b2', 'R2', 1),\n",
    "                          Arc('p21', 'a2', 1),\n",
    "                          Arc('a2', 'p22', 1),\n",
    "                          Arc('p22', 'b2', 1),\n",
    "                          Arc('b2', 'p21', 1)})\n",
    "\n",
    "\n",
    "P_1 = make_petrinet(p11_tokens=3, p21_tokens=2, R1_tokens=2, R2_tokens=1)"
   ]
  },
  {
   "cell_type": "markdown",
   "metadata": {
    "deletable": false,
    "editable": false,
    "nbgrader": {
     "checksum": "ca2c8fcf04a7c2d739458677a1e153f7",
     "grade": false,
     "grade_id": "cell-06cbcaa5cb6428a2",
     "locked": true,
     "schema_version": 1,
     "solution": false
    }
   },
   "source": [
    "We have also implemented a function in the PetriNet class that generates the corresponding reachability graph."
   ]
  },
  {
   "cell_type": "code",
   "execution_count": 5,
   "metadata": {
    "deletable": false,
    "editable": false,
    "nbgrader": {
     "checksum": "85b87fb65c318c2495cd3ce733c01042",
     "grade": false,
     "grade_id": "cell-1257d9643369cdd1",
     "locked": true,
     "schema_version": 1,
     "solution": false
    }
   },
   "outputs": [
    {
     "name": "stdout",
     "output_type": "stream",
     "text": [
      "P_1:\n"
     ]
    },
    {
     "data": {
      "image/png": "[encoded data removed]",
      "text/plain": [
       "<IPython.core.display.Image object>"
      ]
     },
     "execution_count": 5,
     "metadata": {},
     "output_type": "execute_result"
    }
   ],
   "source": [
    "from util import plot_digraph\n",
    "\n",
    "print('P_1:')\n",
    "plot_digraph(P_1.make_reachability_graph(), 'fig/P_1_reach_graph')"
   ]
  },
  {
   "cell_type": "markdown",
   "metadata": {
    "deletable": false,
    "editable": false,
    "nbgrader": {
     "checksum": "5f311ef4ef25e786f98aa9669545e6be",
     "grade": false,
     "grade_id": "cell-6396a27721e6112e",
     "locked": true,
     "schema_version": 1,
     "solution": false
    }
   },
   "source": [
    "To be able to use $\\mu$-calculus to check the Petri net model, we need to transform it into a transition system, though. The below function does that."
   ]
  },
  {
   "cell_type": "code",
   "execution_count": 6,
   "metadata": {
    "deletable": false,
    "editable": false,
    "nbgrader": {
     "checksum": "856748d80655b98dec35779269d48586",
     "grade": false,
     "grade_id": "cell-31d2ea4386c76c08",
     "locked": true,
     "schema_version": 1,
     "solution": false
    }
   },
   "outputs": [
    {
     "name": "stdout",
     "output_type": "stream",
     "text": [
      "T_1:\n"
     ]
    },
    {
     "data": {
      "image/png": "[encoded data removed]",
      "text/plain": [
       "<IPython.core.display.Image object>"
      ]
     },
     "execution_count": 6,
     "metadata": {},
     "output_type": "execute_result"
    }
   ],
   "source": [
    "from util import plot_transitionsystem\n",
    "\n",
    "\n",
    "def make_transition_system(petri_net):\n",
    "    \"\"\"Transforms a PetriNet to a TransitionSystem.\"\"\"\n",
    "    G = petri_net.make_reachability_graph()\n",
    "    states = {State(n) for n in G.nodes}\n",
    "    \n",
    "    def get_state(node):\n",
    "        for s in states:\n",
    "            if s.name == node:\n",
    "                return s\n",
    "    \n",
    "    init = {get_state(G.init)}\n",
    "    events = petri_net.transitions\n",
    "    trans = {Transition(get_state(e.source), e.label, get_state(e.target)) for e in G.edges}\n",
    "    return TransitionSystem(states, init, events, trans)\n",
    "\n",
    "\n",
    "T_1 = make_transition_system(P_1)\n",
    "print('T_1:')\n",
    "plot_transitionsystem(T_1, 'fig/P_1_transition_system')"
   ]
  },
  {
   "cell_type": "markdown",
   "metadata": {
    "deletable": false,
    "editable": false,
    "nbgrader": {
     "checksum": "9cbd24208890b712194c9d6cba6c54f7",
     "grade": false,
     "grade_id": "cell-9b88f0e3b6cf8832",
     "locked": true,
     "schema_version": 1,
     "solution": false
    }
   },
   "source": [
    "---"
   ]
  },
  {
   "cell_type": "markdown",
   "metadata": {
    "deletable": false,
    "editable": false,
    "nbgrader": {
     "checksum": "83b221b4ec502ec770039b6949255e10",
     "grade": false,
     "grade_id": "cell-b26bdefea480b7e7",
     "locked": true,
     "schema_version": 1,
     "solution": false
    }
   },
   "source": [
    "# Task 1\n",
    "\n",
    "## ___CTL*___-Specification to $\\mu$-Calculus *[2p]*\n",
    "\n",
    "In this assignment, you will implement the $\\mu$-calculus algorithms for the booking problem $P_i$ shown above. Specifically, you will check its TransitionSystem model $T_i$ for the following temporal logic specification given in ___CTL*___:\n",
    "\n",
    "<center>\n",
    "    $\\varphi_i = \\forall \\square \\exists \\lozenge m_i$,\n",
    "</center>\n",
    "with $m_i$ indicating a specific initial marking of $P_i$ (e.g. $m_1 = [3 0 2 0 2 1]$). \n",
    "\n",
    "* In simple words, what does this specification $\\varphi_1 = \\forall \\square \\exists \\lozenge m_1$ say and why does it specify a desired behavior? Write your answer below. ***[1p]***"
   ]
  },
  {
   "cell_type": "markdown",
   "metadata": {
    "deletable": false,
    "nbgrader": {
     "checksum": "2e1e7a9738011d7117bc4079b1645aaf",
     "grade": true,
     "grade_id": "spec_in_words",
     "locked": false,
     "points": 1,
     "schema_version": 1,
     "solution": true
    }
   },
   "source": [
    "YOUR ANSWER HERE"
   ]
  },
  {
   "cell_type": "markdown",
   "metadata": {
    "deletable": false,
    "editable": false,
    "nbgrader": {
     "checksum": "46422c6bbee8db8466033c558e1a5192",
     "grade": false,
     "grade_id": "cell-44ee0862c10d9987",
     "locked": true,
     "schema_version": 1,
     "solution": false
    }
   },
   "source": [
    "Now, \n",
    "* transform the ___CTL*___ formula $\\varphi_1$ to $\\mu$-calculus set expressions. Show, also intermediate results. ***[1p]***\n",
    "* *Note*: [This webpage](http://detexify.kirelabs.org/classify.html) may be useful for finding the right LaTex symbols ."
   ]
  },
  {
   "cell_type": "markdown",
   "metadata": {
    "deletable": false,
    "nbgrader": {
     "checksum": "087426cda0dd5a55ff2367626c4bd2c7",
     "grade": true,
     "grade_id": "cell-46438f5b71a85fc3",
     "locked": false,
     "points": 1,
     "schema_version": 1,
     "solution": true
    }
   },
   "source": [
    "YOUR ANSWER HERE"
   ]
  },
  {
   "cell_type": "markdown",
   "metadata": {
    "deletable": false,
    "editable": false,
    "nbgrader": {
     "checksum": "fdf9d562ea05e8a0d57eb0f042940edc",
     "grade": false,
     "grade_id": "cell-5fd6227e48891c4f",
     "locked": true,
     "schema_version": 1,
     "solution": false
    }
   },
   "source": [
    "---"
   ]
  },
  {
   "cell_type": "markdown",
   "metadata": {
    "deletable": false,
    "editable": false,
    "nbgrader": {
     "checksum": "72ad7784bef5422b4218aa25b9ef86ef",
     "grade": false,
     "grade_id": "cell-d09957b9cc69b483",
     "locked": true,
     "schema_version": 1,
     "solution": false
    }
   },
   "source": [
    "# Task 2\n",
    "\n",
    "$\\mu$-calculus includes next modality functions $f \\in \\mathcal{F}$, namely $f = \\exists \\bigcirc$ and $f = \\forall \\bigcirc$. You will implement them as __predecessor set operations__ in this section of the assignment. \n",
    "\n",
    "## Task 2.1 - $\\text{Pre}^\\exists$ Operator *[2p] *\n",
    "\n",
    "This set operator is defined as\n",
    "\n",
    "<center>\n",
    "   $\\text{Pre}^\\exists(Y) = \\{x \\mid (\\exists a \\in \\Sigma(x))\\delta(x, a) \\subseteq Y \\}$, \n",
    "</center>\n",
    "where $x \\in X$ and $Y \\in 2^X$.\n",
    "\n",
    "Now,\n",
    "* implement the $\\text{Pre}^\\exists$ set operator in the `pre_exists` function.\n",
    "* _Hint:_ The inbuilt Python function [`any`](https://docs.python.org/3/library/functions.html#any) might be useful here."
   ]
  },
  {
   "cell_type": "code",
   "execution_count": 7,
   "metadata": {
    "deletable": false,
    "editable": false,
    "nbgrader": {
     "checksum": "9cf5670088a2b010ea12394d715819ac",
     "grade": false,
     "grade_id": "cell-5273404d76bb9d7c",
     "locked": true,
     "schema_version": 1,
     "solution": false
    }
   },
   "outputs": [],
   "source": [
    "# You might want to use one of these...\n",
    "from util import filter_trans_by_source, filter_trans_by_events, filter_trans_by_target\n",
    "from util import extract_elems_from_trans, flip_trans"
   ]
  },
  {
   "cell_type": "code",
   "execution_count": 16,
   "metadata": {
    "deletable": false,
    "nbgrader": {
     "checksum": "375c18b212193399f738ceeda6780e56",
     "grade": false,
     "grade_id": "pre_exists",
     "locked": false,
     "schema_version": 1,
     "solution": true
    }
   },
   "outputs": [],
   "source": [
    "def pre_exists(Y, ts):\n",
    "    \"\"\"\n",
    "    Returns the new set of states for which the exists next modality is true.\n",
    "    \n",
    "    :param Y: Set of States\n",
    "    :param ts: TransitionSystem\n",
    "    \"\"\"\n",
    "    return {trans.source for trans in filter_trans_by_target(ts.trans, Y)}"
   ]
  },
  {
   "cell_type": "code",
   "execution_count": null,
   "metadata": {},
   "outputs": [],
   "source": [
    "# space for your own tests"
   ]
  },
  {
   "cell_type": "code",
   "execution_count": 17,
   "metadata": {
    "deletable": false,
    "editable": false,
    "nbgrader": {
     "checksum": "a33418ef246330740c8aac1a05fccb70",
     "grade": true,
     "grade_id": "pre_exists_tests",
     "locked": true,
     "points": 2,
     "schema_version": 1,
     "solution": false
    }
   },
   "outputs": [],
   "source": [
    "s1 = State(1)\n",
    "s2 = State(2)\n",
    "\n",
    "T0 = TransitionSystem({s1}, {s1}, set(), set())\n",
    "assert pre_exists(set(), T0) == set()\n",
    "assert pre_exists({s1}, T0) == set()\n",
    "\n",
    "T1 = TransitionSystem({s1}, {s1}, {'a'}, {Transition(s1, 'a', s1)})\n",
    "assert pre_exists(set(), T1) == set()\n",
    "assert pre_exists({s1}, T1) == {s1}\n",
    "\n",
    "T2 = TransitionSystem({s1, s2}, {s1}, {'a'}, {Transition(s1, 'a', s2)})\n",
    "assert pre_exists(set(), T2) == set()\n",
    "assert pre_exists({s1}, T2) == set()\n",
    "assert pre_exists({s2}, T2) == {s1}\n",
    "assert pre_exists({s1, s2}, T2) == {s1}"
   ]
  },
  {
   "cell_type": "markdown",
   "metadata": {
    "deletable": false,
    "editable": false,
    "nbgrader": {
     "checksum": "748830d13967b4c1378cc002c52eeeaf",
     "grade": false,
     "grade_id": "cell-3404af1e78697ca6",
     "locked": true,
     "schema_version": 1,
     "solution": false
    }
   },
   "source": [
    "## Task 2.2 - $\\text{Pre}^\\forall$ Operator *[2p] *\n",
    "\n",
    "This set operator is defined as\n",
    "\n",
    "<center>\n",
    "   $\\text{Pre}^\\forall(Y) = \\{x \\mid (\\forall a \\in \\Sigma(x))\\delta(x, a) \\subseteq Y \\}$, \n",
    "</center>\n",
    "where $x \\in X$ and $Y \\in 2^X$.\n",
    "\n",
    "Now,\n",
    "* implement the $\\text{Pre}^\\forall$ set operator in the `pre_forall` function.\n",
    "* _Hint:_ The inbuilt Python function [`all`](https://docs.python.org/3/library/functions.html#all) might be useful here."
   ]
  },
  {
   "cell_type": "code",
   "execution_count": 145,
   "metadata": {
    "deletable": false,
    "nbgrader": {
     "checksum": "a2c1c6c4f186c4f0c2e5f241bca1433e",
     "grade": false,
     "grade_id": "pre_forall",
     "locked": false,
     "schema_version": 1,
     "solution": true
    }
   },
   "outputs": [
    {
     "ename": "IndentationError",
     "evalue": "unexpected indent (<ipython-input-145-76731e3df1dd>, line 23)",
     "output_type": "error",
     "traceback": [
      "\u001b[1;36m  File \u001b[1;32m\"<ipython-input-145-76731e3df1dd>\"\u001b[1;36m, line \u001b[1;32m23\u001b[0m\n\u001b[1;33m    print(\"adding terminal state\")\u001b[0m\n\u001b[1;37m    ^\u001b[0m\n\u001b[1;31mIndentationError\u001b[0m\u001b[1;31m:\u001b[0m unexpected indent\n"
     ]
    }
   ],
   "source": [
    "def pre_forall(Y, ts):\n",
    "    \"\"\"\n",
    "    Returns the new set of states for which the forall next modality is true.\n",
    "    \n",
    "    :param Y: Set of States\n",
    "    :param ts: TransitionSystem\n",
    "    \"\"\"\n",
    "    \n",
    "    x = set()\n",
    "    for state in ts.states:\n",
    "        #print(\"-----------\")\n",
    "\n",
    "        #print(\"Beginning loop\")\n",
    "        #print(\"current state: \",state)\n",
    "        temp_trans = filter_trans_by_source(ts.trans,{state})\n",
    "        #print(\"All targets we can reach for current state: \", extract_elems_from_trans(temp_trans,'target'))\n",
    "        #print(\"Y:\" ,Y)\n",
    "        print(extract_elems_from_trans(temp_trans,'target').issubset(Y))\n",
    "        if (all({extract_elems_from_trans(temp_trans,'target').issubset(Y)})):\n",
    "            #print(\"adding forall state\")\n",
    "            x.add(state)\n",
    "        elif temp_trans == set(): \n",
    "            #print(\"adding terminal state\")\n",
    "            \n",
    "            x.add(state)\n",
    "            \n",
    "    #print(\"Output states\", x)\n",
    "    return x\n",
    "    #return {state for state in pre_forany(Y, ts)\n",
    "    #        if all([filter_trans_by_source(ts.trans, ).target in Y])}"
   ]
  },
  {
   "cell_type": "code",
   "execution_count": 143,
   "metadata": {},
   "outputs": [
    {
     "name": "stdout",
     "output_type": "stream",
     "text": [
      "-----------\n",
      "Beginning loop\n",
      "current state:  name: 1 & labels: {1}\n",
      "All targets we can reach for current state:  {<__main__.State object at 0x0000021C7D0815F8>}\n",
      "Y: {<__main__.State object at 0x0000021C7D081630>, <__main__.State object at 0x0000021C7D0815F8>}\n",
      "True\n",
      "adding forall state\n",
      "-----------\n",
      "Beginning loop\n",
      "current state:  name: 2 & labels: {2}\n",
      "All targets we can reach for current state:  set()\n",
      "Y: {<__main__.State object at 0x0000021C7D081630>, <__main__.State object at 0x0000021C7D0815F8>}\n",
      "True\n",
      "adding forall state\n",
      "Output states {<__main__.State object at 0x0000021C7D081630>, <__main__.State object at 0x0000021C7D0815F8>}\n"
     ]
    }
   ],
   "source": [
    "T2 = TransitionSystem({s1, s2}, {s1}, {'a'}, {Transition(s1, 'a', s2)})\n",
    "assert pre_forall({s1, s2}, T2) == {s1, s2}"
   ]
  },
  {
   "cell_type": "code",
   "execution_count": 144,
   "metadata": {
    "deletable": false,
    "editable": false,
    "nbgrader": {
     "checksum": "31b3eb5b6b09c017fd7e9a3614350bd9",
     "grade": true,
     "grade_id": "pre_forall_tests",
     "locked": true,
     "points": 2,
     "schema_version": 1,
     "solution": false
    }
   },
   "outputs": [
    {
     "name": "stdout",
     "output_type": "stream",
     "text": [
      "-----------\n",
      "Beginning loop\n",
      "current state:  name: 1 & labels: {1}\n",
      "All targets we can reach for current state:  set()\n",
      "Y: set()\n",
      "True\n",
      "adding forall state\n",
      "Output states {<__main__.State object at 0x0000021C7D092080>}\n",
      "-----------\n",
      "Beginning loop\n",
      "current state:  name: 1 & labels: {1}\n",
      "All targets we can reach for current state:  set()\n",
      "Y: {<__main__.State object at 0x0000021C7D092080>}\n",
      "True\n",
      "adding forall state\n",
      "Output states {<__main__.State object at 0x0000021C7D092080>}\n",
      "-----------\n",
      "Beginning loop\n",
      "current state:  name: 1 & labels: {1}\n",
      "All targets we can reach for current state:  {<__main__.State object at 0x0000021C7D092080>}\n",
      "Y: set()\n",
      "False\n",
      "Output states set()\n",
      "-----------\n",
      "Beginning loop\n",
      "current state:  name: 1 & labels: {1}\n",
      "All targets we can reach for current state:  {<__main__.State object at 0x0000021C7D092080>}\n",
      "Y: {<__main__.State object at 0x0000021C7D092080>}\n",
      "True\n",
      "adding forall state\n",
      "Output states {<__main__.State object at 0x0000021C7D092080>}\n",
      "-----------\n",
      "Beginning loop\n",
      "current state:  name: 1 & labels: {1}\n",
      "All targets we can reach for current state:  {<__main__.State object at 0x0000021C7D092048>}\n",
      "Y: set()\n",
      "False\n",
      "-----------\n",
      "Beginning loop\n",
      "current state:  name: 2 & labels: {2}\n",
      "All targets we can reach for current state:  set()\n",
      "Y: set()\n",
      "True\n",
      "adding forall state\n",
      "Output states {<__main__.State object at 0x0000021C7D092048>}\n",
      "-----------\n",
      "Beginning loop\n",
      "current state:  name: 1 & labels: {1}\n",
      "All targets we can reach for current state:  {<__main__.State object at 0x0000021C7D092048>}\n",
      "Y: {<__main__.State object at 0x0000021C7D092080>}\n",
      "False\n",
      "-----------\n",
      "Beginning loop\n",
      "current state:  name: 2 & labels: {2}\n",
      "All targets we can reach for current state:  set()\n",
      "Y: {<__main__.State object at 0x0000021C7D092080>}\n",
      "True\n",
      "adding forall state\n",
      "Output states {<__main__.State object at 0x0000021C7D092048>}\n",
      "-----------\n",
      "Beginning loop\n",
      "current state:  name: 1 & labels: {1}\n",
      "All targets we can reach for current state:  {<__main__.State object at 0x0000021C7D092048>}\n",
      "Y: {<__main__.State object at 0x0000021C7D092048>}\n",
      "True\n",
      "adding forall state\n",
      "-----------\n",
      "Beginning loop\n",
      "current state:  name: 2 & labels: {2}\n",
      "All targets we can reach for current state:  set()\n",
      "Y: {<__main__.State object at 0x0000021C7D092048>}\n",
      "True\n",
      "adding forall state\n",
      "Output states {<__main__.State object at 0x0000021C7D092080>, <__main__.State object at 0x0000021C7D092048>}\n",
      "-----------\n",
      "Beginning loop\n",
      "current state:  name: 1 & labels: {1}\n",
      "All targets we can reach for current state:  {<__main__.State object at 0x0000021C7D092048>}\n",
      "Y: {<__main__.State object at 0x0000021C7D092080>, <__main__.State object at 0x0000021C7D092048>}\n",
      "True\n",
      "adding forall state\n",
      "-----------\n",
      "Beginning loop\n",
      "current state:  name: 2 & labels: {2}\n",
      "All targets we can reach for current state:  set()\n",
      "Y: {<__main__.State object at 0x0000021C7D092080>, <__main__.State object at 0x0000021C7D092048>}\n",
      "True\n",
      "adding forall state\n",
      "Output states {<__main__.State object at 0x0000021C7D092080>, <__main__.State object at 0x0000021C7D092048>}\n"
     ]
    }
   ],
   "source": [
    "s1 = State(1)\n",
    "s2 = State(2)\n",
    "\n",
    "T0 = TransitionSystem({s1}, {s1}, set(), set())\n",
    "assert pre_forall(set(), T0) == {s1}\n",
    "assert pre_forall({s1}, T0) == {s1}\n",
    "\n",
    "T1 = TransitionSystem({s1}, {s1}, {'a'}, {Transition(s1, 'a', s1)})\n",
    "assert pre_forall(set(), T1) == set()\n",
    "assert pre_forall({s1}, T1) == {s1}\n",
    "\n",
    "T2 = TransitionSystem({s1, s2}, {s1}, {'a'}, {Transition(s1, 'a', s2)})\n",
    "assert pre_forall(set(), T2) == {s2}\n",
    "assert pre_forall({s1}, T2) == {s2}\n",
    "assert pre_forall({s2}, T2) == {s1, s2}\n",
    "assert pre_forall({s1, s2}, T2) == {s1, s2}"
   ]
  },
  {
   "cell_type": "markdown",
   "metadata": {
    "deletable": false,
    "editable": false,
    "nbgrader": {
     "checksum": "a95faf559e9a0c720883874c4563b563",
     "grade": false,
     "grade_id": "cell-c8b997df7260eb2c",
     "locked": true,
     "schema_version": 1,
     "solution": false
    }
   },
   "source": [
    "---"
   ]
  },
  {
   "cell_type": "markdown",
   "metadata": {
    "deletable": false,
    "editable": false,
    "nbgrader": {
     "checksum": "855817c45d10faa0089451d57aba6e07",
     "grade": false,
     "grade_id": "cell-8a7b010cd746e7f9",
     "locked": true,
     "schema_version": 1,
     "solution": false
    }
   },
   "source": [
    "# Task 3\n",
    "\n",
    "## Model Checking through Fixed-Point Iteration *[2p]*\n",
    "\n",
    "After having reformulated $\\varphi_i = \\forall \\square \\exists \\lozenge m_i$ as $\\mu$-calculus set expressions, and having implemented both $\\text{Pre}^\\exists$ and $\\text{Pre}^\\forall$, we can start on the actual model checking algorithm. \n",
    "\n",
    "* Implement the function `is_always_eventually_satisfied` that takes as inputs an atomic proposition (e.g. $m_i$) and a TransitionSystem. It then checks whether the TransitionSystem satisfies $\\varphi_i$. ***[2p]***\n",
    "* _Hint:_ You need to implement both a least fixed-point iteration $\\mu Z$ and a greatest fixed-point iteration $\\nu Y$."
   ]
  },
  {
   "cell_type": "code",
   "execution_count": null,
   "metadata": {
    "deletable": false,
    "nbgrader": {
     "checksum": "4800761135b89b61bd058c4aa4544eb9",
     "grade": false,
     "grade_id": "check",
     "locked": false,
     "schema_version": 1,
     "solution": true
    }
   },
   "outputs": [],
   "source": [
    "def is_always_eventually_satisfied(m_i, ts):\n",
    "    \"\"\"\n",
    "    Checks if a TransitionSystem always eventually satisfies an atomic proposition.\n",
    "    \n",
    "    :param m_i: String/integer. Atomic proposition\n",
    "    :param ts: TransitionSystem to check\n",
    "    \"\"\"\n",
    "    satisfied = False\n",
    "    # YOUR CODE HERE\n",
    "    raise NotImplementedError()\n",
    "    return satisfied\n",
    "\n",
    "\n",
    "m_1 = '[3 0 2 0 2 1]'\n",
    "print('T_1 {} satisfy phi_1!'.format('does' if is_always_eventually_satisfied(m_1, T_1) else 'does NOT'))"
   ]
  },
  {
   "cell_type": "code",
   "execution_count": null,
   "metadata": {},
   "outputs": [],
   "source": [
    "# space for your own tests"
   ]
  },
  {
   "cell_type": "code",
   "execution_count": null,
   "metadata": {
    "deletable": false,
    "editable": false,
    "nbgrader": {
     "checksum": "4176a24adc917288f8294be9b06acced",
     "grade": true,
     "grade_id": "check_tests",
     "locked": true,
     "points": 2,
     "schema_version": 1,
     "solution": false
    }
   },
   "outputs": [],
   "source": [
    "s1 = State(1)\n",
    "s2 = State(2)\n",
    "\n",
    "T0 = TransitionSystem({s1}, {s1}, set(), set())\n",
    "assert is_always_eventually_satisfied(1, T0) == True\n",
    "\n",
    "T1 = TransitionSystem({s1}, {s1}, {'a'}, {Transition(s1, 'a', s1)})\n",
    "assert is_always_eventually_satisfied(1, T1) == True\n",
    "\n",
    "T2 = TransitionSystem({s1, s2}, {s1}, {'a'}, {Transition(s1, 'a', s2)})\n",
    "assert is_always_eventually_satisfied(1, T2) == False\n",
    "assert is_always_eventually_satisfied(2, T2) == True\n",
    "\n",
    "T3 = TransitionSystem({s1, s2}, {s1}, {'a'}, {Transition(s1, 'a', s1), Transition(s1, 'a', s2)})\n",
    "assert is_always_eventually_satisfied(1, T3) == False\n",
    "assert is_always_eventually_satisfied(2, T3) == True\n",
    "\n",
    "T4 = TransitionSystem({s1, s2}, {s1}, {'a'}, {Transition(s1, 'a', s1), \n",
    "                                              Transition(s1, 'a', s2), \n",
    "                                              Transition(s2, 'a', s2)})\n",
    "assert is_always_eventually_satisfied(1, T4) == False\n",
    "assert is_always_eventually_satisfied(2, T4) == True\n",
    "\n",
    "s3 = State(3)\n",
    "s4 = State(4)\n",
    "T5 = TransitionSystem({s1, s2, s3, s4}, {s1}, {'a', 'b'}, \n",
    "                      {Transition(s1, 'a', s2),\n",
    "                       Transition(s1, 'b', s3),\n",
    "                       Transition(s2, 'a', s1),\n",
    "                       Transition(s2, 'b', s4),\n",
    "                       Transition(s3, 'a', s1),\n",
    "                       Transition(s3, 'b', s4),\n",
    "                       Transition(s4, 'a', s2)})\n",
    "assert is_always_eventually_satisfied(1, T5) == True\n",
    "assert is_always_eventually_satisfied(2, T5) == True\n",
    "assert is_always_eventually_satisfied(3, T5) == True\n",
    "assert is_always_eventually_satisfied(4, T5) == True"
   ]
  },
  {
   "cell_type": "markdown",
   "metadata": {
    "deletable": false,
    "editable": false,
    "nbgrader": {
     "checksum": "d1d51ac007a838410dbbe087f7605c57",
     "grade": false,
     "grade_id": "cell-e5a7da1a716d707d",
     "locked": true,
     "schema_version": 1,
     "solution": false
    }
   },
   "source": [
    "---"
   ]
  },
  {
   "cell_type": "markdown",
   "metadata": {
    "deletable": false,
    "editable": false,
    "nbgrader": {
     "checksum": "14ac039bbd45628f2ae9e3e74898d2d5",
     "grade": false,
     "grade_id": "cell-058f2179b451c4de",
     "locked": true,
     "schema_version": 1,
     "solution": false
    }
   },
   "source": [
    "# Task 4\n",
    "\n",
    "## Solving the Booking Problem *[2p]*\n",
    "\n",
    "It seems that there is an issue with the booking of the resources in the system (the Petri net from earlier) at some point. And that even pertains when we scale the system."
   ]
  },
  {
   "cell_type": "code",
   "execution_count": null,
   "metadata": {},
   "outputs": [],
   "source": [
    "# e.g. multiplying all tokens by factor 7\n",
    "m_2 = '[21 0 14 0 14 7]'\n",
    "T_2 = make_transition_system(make_petrinet(21, 14, 14, 7))\n",
    "print('T_2 {} satisfy phi_2!'.format('does' if is_always_eventually_satisfied(m_2, T_2) else 'does NOT'))\n",
    "plot_transitionsystem(T_2, 'fig/T_2')"
   ]
  },
  {
   "cell_type": "markdown",
   "metadata": {
    "deletable": false,
    "editable": false,
    "nbgrader": {
     "checksum": "0377ae4084637346065229680af03c7f",
     "grade": false,
     "grade_id": "cell-bc8c2d0b3fcb18bc",
     "locked": true,
     "schema_version": 1,
     "solution": false
    }
   },
   "source": [
    "Given that observation:\n",
    "\n",
    "* Change $P_1$ so that the booking problem is resolved. Elements of the original structure of the Petri net (places and arcs) must not be removed in that. ***[1p]***"
   ]
  },
  {
   "cell_type": "code",
   "execution_count": null,
   "metadata": {
    "deletable": false,
    "nbgrader": {
     "checksum": "403b273540a35c197be40be85bf79b0b",
     "grade": true,
     "grade_id": "fix",
     "locked": false,
     "points": 1,
     "schema_version": 1,
     "solution": true
    }
   },
   "outputs": [],
   "source": [
    "def make_fixed_petrinet():\n",
    "    \"\"\"Makes a new, altered, issue-free version of P_1\"\"\"\n",
    "    # YOUR CODE HERE\n",
    "    raise NotImplementedError()\n",
    "    return P\n",
    "\n",
    "\n",
    "P_3 = make_fixed_petrinet()\n",
    "T_3 = make_transition_system(P_3)\n",
    "print('T_3 {} satisfy phi_3!'.format('does' if is_always_eventually_satisfied(str(P_3.init_marking), T_3)\n",
    "                                     else 'does NOT'))\n",
    "print('P_3:')\n",
    "plot_petrinet(P_3, 'fig/P_3')"
   ]
  },
  {
   "cell_type": "markdown",
   "metadata": {
    "deletable": false,
    "editable": false,
    "nbgrader": {
     "checksum": "78d9813ec85340f3cbfa22b78e20bbb4",
     "grade": false,
     "grade_id": "cell-c3d01ecad3d0f0c8",
     "locked": true,
     "schema_version": 1,
     "solution": false
    }
   },
   "source": [
    "* Describe briefly in words how you could implement your proposed changes in the real system. ***[1p]***"
   ]
  },
  {
   "cell_type": "markdown",
   "metadata": {
    "deletable": false,
    "nbgrader": {
     "checksum": "c767c7ccb37598cd4f0e949a517b137f",
     "grade": true,
     "grade_id": "implementation",
     "locked": false,
     "points": 1,
     "schema_version": 1,
     "solution": true
    }
   },
   "source": [
    "YOUR ANSWER HERE"
   ]
  },
  {
   "cell_type": "markdown",
   "metadata": {
    "deletable": false,
    "editable": false,
    "nbgrader": {
     "checksum": "57000be9e91cc68a7347a7ee2a895f70",
     "grade": false,
     "grade_id": "cell-cfa0a0df61fd51eb",
     "locked": true,
     "schema_version": 1,
     "solution": false
    }
   },
   "source": [
    "## Bonus Task (optional)\n",
    "\n",
    "* Can you derive a general rule to avoid the booking problem for the given Petri net structure of $P_1$? If yes, explain it with a few words. ***[+1p]***"
   ]
  },
  {
   "cell_type": "markdown",
   "metadata": {
    "deletable": false,
    "nbgrader": {
     "checksum": "0f520f0417d6081a6d1b0e2148040e25",
     "grade": true,
     "grade_id": "bonus",
     "locked": false,
     "points": 0,
     "schema_version": 1,
     "solution": true
    }
   },
   "source": [
    "YOUR ANSWER HERE"
   ]
  },
  {
   "cell_type": "markdown",
   "metadata": {
    "deletable": false,
    "editable": false,
    "nbgrader": {
     "checksum": "d11fe46a5b8dc42a36e20f63dabc85b7",
     "grade": false,
     "grade_id": "cell-c55d42dab3dd9445",
     "locked": true,
     "schema_version": 1,
     "solution": false
    }
   },
   "source": [
    "---"
   ]
  },
  {
   "cell_type": "markdown",
   "metadata": {
    "deletable": false,
    "editable": false,
    "nbgrader": {
     "checksum": "4d57c4ee35b6fa5b53f2d74c3507b45b",
     "grade": false,
     "grade_id": "cell-ca4413be58012d08",
     "locked": true,
     "schema_version": 1,
     "solution": false
    }
   },
   "source": [
    "That is all there is. If you are done,\n",
    "\n",
    "* Save the notebook\n",
    "* Upload the .ipynb file to Canvas\n",
    "* Give yourself a pat on the back! "
   ]
  }
 ],
 "metadata": {
  "author": "",
  "kernelspec": {
   "display_name": "Python 3",
   "language": "python",
   "name": "python3"
  },
  "language_info": {
   "codemirror_mode": {
    "name": "ipython",
    "version": 3
   },
   "file_extension": ".py",
   "mimetype": "text/x-python",
   "name": "python",
   "nbconvert_exporter": "python",
   "pygments_lexer": "ipython3",
   "version": "3.7.1"
  },
  "latex_envs": {
   "LaTeX_envs_menu_present": true,
   "autoclose": false,
   "autocomplete": true,
   "bibliofile": "biblio.bib",
   "cite_by": "apalike",
   "current_citInitial": 1,
   "eqLabelWithNumbers": true,
   "eqNumInitial": 1,
   "hotkeys": {
    "equation": "Ctrl-E",
    "itemize": "Ctrl-I"
   },
   "labels_anchors": false,
   "latex_user_defs": false,
   "report_style_numbering": false,
   "user_envs_cfg": false
  }
 },
 "nbformat": 4,
 "nbformat_minor": 2
}
