{
 "cells": [
  {
   "cell_type": "markdown",
   "metadata": {
    "deletable": false,
    "editable": false,
    "nbgrader": {
     "checksum": "8a9e160a7b9b06678562bab0a4485857",
     "grade": false,
     "grade_id": "cell-6ec5aa4507a8f918",
     "locked": true,
     "schema_version": 1,
     "solution": false
    }
   },
   "source": [
    "<center>\n",
    "\n",
    "# Discrete Event Systems\n",
    "\n",
    "## Home Assignment 2\n",
    "\n",
    "### Nonblocking and Controllable Supervisor Synthesis\n",
    "\n",
    "- - -"
   ]
  },
  {
   "cell_type": "markdown",
   "metadata": {
    "deletable": false,
    "editable": false,
    "nbgrader": {
     "checksum": "2eac39146a1416ffd3707e7a6a3aa2ff",
     "grade": false,
     "grade_id": "cell-d299ce342e54a4d8",
     "locked": true,
     "schema_version": 1,
     "solution": false
    }
   },
   "source": [
    "# Introduction\n",
    "\n",
    "The objective of this home assignment is to extend the results already obtained in Home Assignment 1 by including uncontrollable events and generating a supervisor that is both nonblocking and controllable. This will be achieved by implementing two algorithms already presented in the lecture notes in Python, but also implementing a new function that generates uncontrollable states.\n",
    "\n",
    "This home assignment is performed in *two member groups*. Write all your answers into this notebook and **submit only this notebook (.ipynb) on Canvas**"
   ]
  },
  {
   "cell_type": "markdown",
   "metadata": {
    "deletable": false,
    "editable": false,
    "nbgrader": {
     "checksum": "e0a979e59b4da2701196dc3ce3eeeada",
     "grade": false,
     "grade_id": "cell-8dfe6514b5b0e564",
     "locked": true,
     "schema_version": 1,
     "solution": false
    }
   },
   "source": [
    "## Comments and Recommendations\n",
    "Once again:\n",
    "* The following resources will be of great help to you for this assignment:\n",
    " * [Python docs](https://docs.python.org/3/)\n",
    " * [Google](https://www.google.com)\n",
    " * [Wikipedia overview of syntax and semantics](https://en.wikipedia.org/wiki/Python_syntax_and_semantics)\n",
    "* This assignment is written for Python 3.5 or later!\n",
    "* If you get stuck with Python or Jupyter, try to google it! E.g. your search query could be *\"python --INSERT ERROR HERE--\"*. Chances are high, heaps of people had the same problem before you.\n",
    "* If your code passes all the tests in this notebook, you are on a good way. That does not mean you have passed though! We will test your code with additional edge cases. So convince yourself that everything is correct before you submit."
   ]
  },
  {
   "cell_type": "markdown",
   "metadata": {
    "deletable": false,
    "editable": false,
    "nbgrader": {
     "checksum": "c1ff1490f5f6ed2f4bc2f7a407965184",
     "grade": false,
     "grade_id": "cell-14d9e8d5cc01d1b4",
     "locked": true,
     "schema_version": 1,
     "solution": false
    }
   },
   "source": [
    "- - -"
   ]
  },
  {
   "cell_type": "markdown",
   "metadata": {},
   "source": [
    "# Task 1\n",
    "\n",
    "## Reachability v.2 *[2p]*\n",
    "\n",
    "Before we can turn to the synthesis of non-blocking and controllable supervisors, we need to update our `reach` function to handle uncontrollable events and forbidden states too.\n",
    "\n",
    "As defined in chapter 6 of the lecture notes the reachability algorithm is as follows:\n",
    "\n",
    "**Algorithm 1.** Reachability($\\Sigma, \\delta, Q_0, Q_x$)\n",
    "\n",
    ">**let** $k:=0, Q_0 := Q_0 \\setminus Q_x$\n",
    ">\n",
    ">**repeat**\n",
    ">\n",
    ">>$k := k+1$\n",
    ">>\n",
    ">>$Q_k := Q_{k-1} \\cup \\{q^+ \\mid \\exists q \\in Q_{k-1} \\wedge \\exists \\sigma \\in \\Sigma \\wedge \\delta(q,\\sigma) = q^+ \\} \\setminus Q_x $\n",
    ">>\n",
    ">**until** $Q_k = Q_{k-1}$\n",
    ">\n",
    "**return** $Q_k$\n",
    "\n",
    "In this assignment, we will re-use parts of Assignment 1. Make sure to execute the cell below."
   ]
  },
  {
   "cell_type": "code",
   "execution_count": 1,
   "metadata": {
    "deletable": false,
    "editable": false,
    "nbgrader": {
     "checksum": "b2a65e69f09214fdf25639afef62cbd3",
     "grade": false,
     "grade_id": "cell-5273404d76bb9d7c",
     "locked": true,
     "schema_version": 1,
     "solution": false
    }
   },
   "outputs": [],
   "source": [
    "from util import Transition\n",
    "from util import plot_automaton\n",
    "from util import filter_trans_by_source, filter_trans_by_events, filter_trans_by_target\n",
    "from util import extract_elems_from_trans, flip_trans"
   ]
  },
  {
   "cell_type": "code",
   "execution_count": 14,
   "metadata": {
    "deletable": false,
    "nbgrader": {
     "checksum": "184dcde611bf66500810e20d50aa850a",
     "grade": false,
     "grade_id": "reach",
     "locked": false,
     "schema_version": 1,
     "solution": true
    }
   },
   "outputs": [],
   "source": [
    "# Now implement the function in code\n",
    "def reach(events, trans, start_states, forbidden):\n",
    "    \"\"\"\n",
    "    Returns the forward reachable states of a transition set\n",
    "    \n",
    "    :param events: set of events\n",
    "    :param trans: set of transitions\n",
    "    :param start_states: set of states\n",
    "    :param forbidden: set of forbidden states\n",
    "    \"\"\"\n",
    "    \n",
    "    # Initializing the reachable states as our starting states\n",
    "    reach_states = {state for state in start_states if state not in forbidden}\n",
    "    \n",
    "    # Initialize loop boolean\n",
    "    done = False\n",
    "    \n",
    "    # Setting sources to filter transitions from as the start states\n",
    "    sources = reach_states\n",
    "\n",
    "    while not done:\n",
    "        # Boolean to check if any new states have been found\n",
    "        new_state = False\n",
    "        # Finding all transitions that have our source and extracting the targets\n",
    "        temp_transitions = filter_trans_by_source(trans, sources)\n",
    "        \n",
    "        temp_transitions.intersection_update(filter_trans_by_events(trans, events))\n",
    "        \n",
    "        targets = extract_elems_from_trans(temp_transitions,'target')\n",
    "\n",
    "        \n",
    "        # adding all targets to reach_states who are not already there\n",
    "        sources = set()\n",
    "        for target in targets: \n",
    "            if target not in reach_states:\n",
    "                if target not in forbidden:\n",
    "                    reach_states.add(target)\n",
    "                    sources.add(target)\n",
    "                    new_state = True\n",
    "            \n",
    "        # Setting the targets as the sources for the next iteration\n",
    "        #sources = targets\n",
    "        \n",
    "        # Check if no transitions were found or if no new states are found from our current state\n",
    "        if not bool(temp_transitions) or not new_state:\n",
    "            done = True \n",
    "            \n",
    "    return reach_states"
   ]
  },
  {
   "cell_type": "code",
   "execution_count": null,
   "metadata": {},
   "outputs": [],
   "source": []
  },
  {
   "cell_type": "code",
   "execution_count": 3,
   "metadata": {
    "deletable": false,
    "editable": false,
    "nbgrader": {
     "checksum": "fb0d772819ed51ee3537070275bcbb4d",
     "grade": true,
     "grade_id": "reach_test",
     "locked": true,
     "points": 2,
     "schema_version": 1,
     "solution": false
    }
   },
   "outputs": [],
   "source": [
    "# Single state\n",
    "reachable = reach(set(), set(), {1}, set())\n",
    "assert reachable == {1}, 'Got {} instead'.format(reachable)\n",
    "reachable = reach({'a'}, {Transition(1, 'a', 1)}, {1}, set())\n",
    "assert reachable == {1}, 'Got {} instead'.format(reachable)\n",
    "\n",
    "# Simple automata\n",
    "reachable = reach({'a'}, {Transition(1, 'a', 2)}, {1}, set())\n",
    "assert reachable == {1, 2}, 'Got {} instead'.format(reachable)\n",
    "reachable = reach({'a'}, {Transition(2, 'a', 1)}, {1}, set())\n",
    "assert reachable == {1}, 'Got {} instead'.format(reachable)\n",
    "reachable = reach({'a'}, {Transition(2, 'a', 1), Transition(1, 'a', 2)}, {1}, set())\n",
    "assert reachable == {1, 2}, 'Got {} instead'.format(reachable)\n",
    "\n",
    "# Parallel transitions\n",
    "reachable = reach({'a', 'b'}, {Transition(1, 'a', 2), Transition(1, 'b', 2)}, {1}, set())\n",
    "assert reachable == {1, 2}, 'Got {} instead'.format(reachable)\n",
    "reachable = reach({'a', 'b'}, {Transition(2, 'a', 1), Transition(2, 'b', 1)}, {1}, set())\n",
    "assert reachable == {1}, 'Got {} instead'.format(reachable)\n",
    "\n",
    "# Handling of forbidden states\n",
    "reachable = reach({'a'}, {Transition(1, 'a', 2)}, {1}, {1})\n",
    "assert reachable == set(), 'Got {} instead'.format(reachable)\n",
    "reachable = reach({'a'}, {Transition(1, 'a', 2)}, {1}, {2})\n",
    "assert reachable == {1}, 'Got {} instead'.format(reachable)\n",
    "\n",
    "# Larger automata\n",
    "reachable = reach({'a'},\n",
    "                  {Transition(1, 'a', 2), Transition(2, 'a', 3), Transition(3, 'a', 1)},\n",
    "                  {1},\n",
    "                  set())\n",
    "assert reachable == {1, 2, 3}, 'Got {} instead'.format(reachable)"
   ]
  },
  {
   "cell_type": "markdown",
   "metadata": {
    "deletable": false,
    "editable": false,
    "nbgrader": {
     "checksum": "8c623c6cf60ee6b643b945e2e997376f",
     "grade": false,
     "grade_id": "cell-bd0cf70d10622a53",
     "locked": true,
     "schema_version": 1,
     "solution": false
    }
   },
   "source": [
    "# Preliminaries\n",
    "\n",
    "For the remainder of the assignment use the functions given below."
   ]
  },
  {
   "cell_type": "code",
   "execution_count": 4,
   "metadata": {},
   "outputs": [],
   "source": [
    "from util import Automaton\n",
    "from util import merge_label, cross_product \n",
    "\n",
    "\n",
    "def coreach(events, trans, start_states, forbidden):\n",
    "    \"\"\"\n",
    "    Returns the coreachable (backward reachable) states of a transition set\n",
    "    \n",
    "    :param events: set of events\n",
    "    :param trans: set of transitions\n",
    "    :param start_states: set of statesssw\n",
    "    :param forbidden: set of forbidden states\n",
    "    \"\"\"\n",
    "    return reach(events, flip_trans(trans), start_states, forbidden)\n",
    "\n",
    "\n",
    "def synch(aut1, aut2):\n",
    "    \"\"\"\n",
    "    Returns the synchronous composition of two automata.\n",
    "    \n",
    "    :param aut1: Automaton\n",
    "    :param aut2: Automaton\n",
    "    \"\"\"\n",
    "    states = cross_product(aut1.states, aut2.states)\n",
    "    init = merge_label(aut1.init, aut2.init)\n",
    "    events = aut1.events | aut2.events\n",
    "    \n",
    "    # Add self loops\n",
    "    trans1 = aut1.trans.copy()\n",
    "    for event in aut2.events - aut1.events:\n",
    "        for state in aut1.states:\n",
    "            trans1.add(Transition(state, event, state))\n",
    "    \n",
    "    trans2 = aut2.trans.copy()\n",
    "    for event in aut1.events - aut2.events:\n",
    "        for state in aut2.states:\n",
    "            trans2.add(Transition(state, event, state))\n",
    "    \n",
    "    # Transitions\n",
    "    trans = set()\n",
    "    for t1 in trans1:\n",
    "        for t2 in trans2:\n",
    "            if t1.event == t2.event:\n",
    "                trans.add(Transition(merge_label(t1.source, t2.source),\n",
    "                                     t1.event,\n",
    "                                     merge_label(t1.target, t2.target)))\n",
    "    \n",
    "    # Marked states\n",
    "    m1 = aut1.marked if aut1.marked else aut1.states\n",
    "    m2 = aut2.marked if aut2.marked else aut2.states\n",
    "    marked = cross_product(m1, m2)\n",
    "    \n",
    "    # Forbidden states\n",
    "    forbidden = cross_product(aut1.forbidden, aut2.states) | cross_product(aut1.states, aut2.forbidden)\n",
    "    \n",
    "    # Removing unreachable states\n",
    "    reachable = reach(events, trans, {init}, set())\n",
    "    marked &= reachable\n",
    "    forbidden &= reachable\n",
    "    trans = filter_trans_by_source(trans, reachable)\n",
    "    \n",
    "    # Create synchronized automaton\n",
    "    return Automaton(reachable, init, events, trans, marked, forbidden)"
   ]
  },
  {
   "cell_type": "markdown",
   "metadata": {
    "deletable": false,
    "editable": false,
    "nbgrader": {
     "checksum": "caf7fda28bc36ac8a4159b2a3415f723",
     "grade": false,
     "grade_id": "cell-9d31ed14c04b490c",
     "locked": true,
     "schema_version": 1,
     "solution": false
    }
   },
   "source": [
    "- - -"
   ]
  },
  {
   "cell_type": "markdown",
   "metadata": {
    "deletable": false,
    "editable": false,
    "nbgrader": {
     "checksum": "1c45d7181c6db1cfed20e1e83d113f68",
     "grade": false,
     "grade_id": "cell-777ac3adcbea1aa1",
     "locked": true,
     "schema_version": 1,
     "solution": false
    }
   },
   "source": [
    "# Task 2\n",
    "\n",
    "## Synthesis *[3p]*\n",
    "\n",
    "Using `reach`, `coreach` and `synch` from the first assignment, your task is now to implement:\n",
    "\n",
    "$\\qquad$ `S = supervisor(P, Sp, sigma_u)`\n",
    "    \n",
    "that, given a plant $P$, a specification $Sp$ and a set of uncontrollable events $\\Sigma_u$, generates a nonblocking and controllable supervisor $S$. Note that $\\Sigma_u \\subseteq \\Sigma^P$, and it is assumed that $\\Sigma^{Sp} \\subseteq \\Sigma^P$, where $\\Sigma^P$ and $\\Sigma^{Sp}$ are the event sets of the plant $P$ and the specification $Sp$. The supervisor is generated by implementing and applying algorithm 3 in the lecture notes.\n",
    "\n",
    "Your code should raise a `ValueError` when there exist no supervisor that can fulfill the specification:\n",
    "\n",
    "$\\qquad$ `if noSupervisorExists: raise ValueError`\n",
    "\n",
    "* *Note:* If more than one plant and/or specification model are involved, the total plant and/or specification model is generated by synchronizing the local models. For instance, $P_1, P_2, Sp_1$ and $Sp_2$ gives $P = P_1 \\parallel P_2$ and $Sp = Sp_1 \\parallel Sp_2$.\n",
    "\n",
    "* *Note:* One of the input sets in Algorithm 3 is the set of forbidden states. Implement specifically a function that generates this forbidden state set, including both explicitly forbidden states and uncontrollable states.\n",
    "\n",
    "* *Note:* In the synchronization of two automaton $A$ and $B$, the names of the original states $q^A$ and $q^B$ can be identified, since the merge state function generates state names $q^A.q^B$. Identification of the reachable states in $P \\parallel Sp$ and the corresponding states in $P$ and $Sp$ simplifies the generation of the uncontrollable states. "
   ]
  },
  {
   "cell_type": "markdown",
   "metadata": {
    "deletable": false,
    "editable": false,
    "nbgrader": {
     "checksum": "4159a61e855a6595b51effbd91c58791",
     "grade": false,
     "grade_id": "cell-20bae39ada6e58e6",
     "locked": true,
     "schema_version": 1,
     "solution": false
    }
   },
   "source": [
    "Here are some helper functions that might help you with your implementation of the algorithm in code."
   ]
  },
  {
   "cell_type": "code",
   "execution_count": 5,
   "metadata": {
    "deletable": false,
    "editable": false,
    "nbgrader": {
     "checksum": "7bdfd755269e75d41b2a3d88f8907b4c",
     "grade": false,
     "grade_id": "cell-7662cb2eea3fb197",
     "locked": true,
     "schema_version": 1,
     "solution": false
    }
   },
   "outputs": [],
   "source": [
    "# These two functions follow the definition of uncontrollable states given on page 100 in the Lecture Notes\n",
    "def is_defined_for_p(p_trans, merged_source, shared_sigma_u):\n",
    "    \"\"\"\n",
    "    Boolean check whether there is an uncontrollable transition defined in P\n",
    "    with the merged_source as start state.\n",
    "    \n",
    "    :param p_trans: Set of transitions in automaton P\n",
    "    :param merged_source: String label of the merged state in P||Q\n",
    "    :param shared_sigma_u: Set of uncontrollable events shared between P and Q.\n",
    "    \"\"\"\n",
    "    validate_inputs(p_trans, merged_source, shared_sigma_u)\n",
    "    uncontrollable_trans = filter_trans_by_events(p_trans, shared_sigma_u)\n",
    "    u_trans_from_merged_source = {t for t in uncontrollable_trans \n",
    "                                  if merged_source.startswith(str(t.source))}\n",
    "    return u_trans_from_merged_source != set()\n",
    "\n",
    "\n",
    "def is_defined_for_q(q_trans, merged_source, shared_sigma_u):\n",
    "    \"\"\"\n",
    "    Boolean check whether there is an uncontrollable transition defined in Q\n",
    "    with the merged_source as start state.\n",
    "    \n",
    "    :param q_trans: Set of transitions in automaton Q\n",
    "    :param merged_source: String label of the merged state in P||Q\n",
    "    :param shared_sigma_u: Set of uncontrollable events shared between P and Q.\n",
    "    \"\"\"\n",
    "    validate_inputs(q_trans, merged_source, shared_sigma_u)\n",
    "    uncontrollable_trans = filter_trans_by_events(q_trans, shared_sigma_u)\n",
    "    u_trans_from_merged_source = {t for t in uncontrollable_trans \n",
    "                                  if merged_source.endswith(str(t.source))}\n",
    "    return u_trans_from_merged_source != set()\n",
    "\n",
    "\n",
    "def validate_inputs(trans, source, events):\n",
    "    assert type(trans) is set\n",
    "    assert type(source) is str\n",
    "    assert type(events) is set"
   ]
  },
  {
   "cell_type": "code",
   "execution_count": 6,
   "metadata": {
    "deletable": false,
    "nbgrader": {
     "checksum": "c18418ed4d5e184db899722f99048ca5",
     "grade": false,
     "grade_id": "supervisor_impl",
     "locked": false,
     "schema_version": 1,
     "solution": true
    }
   },
   "outputs": [],
   "source": [
    "# Now implement the function in code\n",
    "def supervisor(P, Sp, sigma_u):\n",
    "    \"\"\"\n",
    "    Generates a nonblocking and controllable supervisor for the synchronized system P||Sp.\n",
    "    \n",
    "    :param P: automaton of the plant\n",
    "    :param Sp: automaton of the specification\n",
    "    :param sigma_u: set of uncontrollable events\n",
    "    \"\"\"\n",
    "    # finding the synchronous system S0\n",
    "    S0 = synch(P,Sp)\n",
    "    \n",
    "    #print(\"Original transitions: \", S0.trans)\n",
    "    \n",
    "    # Finding uncontrollable states by checking for which transitions the transitions is not defined for both S and Sp\n",
    "    uncontrollable_states = {transs.source for transs in S0.trans \n",
    "                             if (is_defined_for_p(P.trans, transs.source, sigma_u) and not\n",
    "                                        is_defined_for_q(Sp.trans, transs.source, sigma_u))}\n",
    "    uncontrollable_states.update({transs.target for transs in S0.trans \n",
    "                             if (is_defined_for_p(P.trans, transs.target, sigma_u) and not\n",
    "                                        is_defined_for_q(Sp.trans, transs.target, sigma_u))})\n",
    "    #print(\"Uncontrollable states Q_u: \", uncontrollable_states)\n",
    "    # Updating the forbidden states by adding the uncontrollable states according to eq. 7.2 in the lecture notes\n",
    "    Q_x = S0.forbidden.union(uncontrollable_states)\n",
    "        \n",
    "    #print(\"Forbidden states Qx: \", Q_x)\n",
    "    Q_s = SafeStateSynthesis(S0.states, S0.events, sigma_u, S0.trans, S0.marked, Q_x)\n",
    "    #print(\"Safe states Q_s: \", Q_s)\n",
    "\n",
    "    #Finding the transitions for S\n",
    "    trans = {tran for tran in S0.trans if ((tran.source in Q_s) and (tran.target in Q_s))}\n",
    "    #print(\"New transitions: \", trans)\n",
    "    \n",
    "    # Finding all events in S\n",
    "    events = extract_elems_from_trans(trans, 'event')\n",
    "    \n",
    "    if Q_s == set():\n",
    "        raise ValueError\n",
    "    \n",
    "    S = Automaton(states=Q_s,\n",
    "                  init=S0.init,\n",
    "                  events=S0.events,\n",
    "                  trans=trans,\n",
    "                  marked=Q_s.intersection(S0.marked))\n",
    "    \n",
    "    \n",
    "    return S\n",
    "\n",
    "\n",
    "def SafeStateSynthesis(Q,sigma,sigma_u,trans,Q_m,Q_x):\n",
    "    done = False\n",
    "    X = Q_x.copy()\n",
    "    # Iterative loop to find safe states Q_s\n",
    "    while not done:\n",
    "        Q_p = coreach(sigma, trans, Q_m, X)\n",
    "        #print(\"Qp: \", Q_p)\n",
    "        Q_pp = coreach(sigma_u, trans, Q.difference(Q_p), set())\n",
    "        #print(\"Qpp: \", Q_pp)\n",
    "        X_new = X.union(Q_pp)\n",
    "        #print(\"States to remove X: \", X_new)\n",
    "        if X_new == X: \n",
    "            done = True\n",
    "        else:\n",
    "            X = X_new.copy()\n",
    "            \n",
    "    return Q.difference(X)"
   ]
  },
  {
   "cell_type": "code",
   "execution_count": 15,
   "metadata": {},
   "outputs": [],
   "source": [
    "P = Automaton(states={1, 2, 3, 4},\n",
    "              init=1,\n",
    "              events={'a', 'b'},\n",
    "              trans={Transition(1, 'a', 2), Transition(2, 'b', 3), Transition(3, 'b', 4)})\n",
    "Sp1 = Automaton(states={1, 2, 3},\n",
    "                init=1,\n",
    "                events={'a', 'b'},\n",
    "                trans={Transition(1, 'a', 2), Transition(2, 'b', 3)},\n",
    "                marked={1, 2})\n",
    "Sp2 = Automaton(states={1, 2, 3, 4},\n",
    "                init=1,\n",
    "                events={'a', 'b'},\n",
    "                trans={Transition(1, 'a', 2), Transition(2, 'b', 3), Transition(3, 'b', 4)},\n",
    "                marked={1, 2})\n",
    "\n",
    "S = supervisor(P, Sp1, {'b'})"
   ]
  },
  {
   "cell_type": "code",
   "execution_count": 8,
   "metadata": {
    "code_folding": [],
    "deletable": false,
    "editable": false,
    "nbgrader": {
     "checksum": "96437a43e6cf998d10f3c635b0ba5b0f",
     "grade": true,
     "grade_id": "supervisor_test",
     "locked": true,
     "points": 3,
     "schema_version": 1,
     "solution": false
    }
   },
   "outputs": [],
   "source": [
    "# Test case 0 - Single states\n",
    "P = Automaton(states={1},\n",
    "              init=1,\n",
    "              events=set(),\n",
    "              trans=set())\n",
    "Sp = Automaton(states={2},\n",
    "               init=2,\n",
    "               events=set(),\n",
    "               trans=set())\n",
    "S = supervisor(P, Sp, set())\n",
    "assert S.states == {'1.2'}, 'TC 0.1 - got {} instead'.format(S.states)\n",
    "assert S.events == set(), 'TC 0.2 - got {} instead'.format(S.events)\n",
    "\n",
    "# Test case 1 - Three states\n",
    "P = Automaton(states={1, 2, 3},\n",
    "              init=1,\n",
    "              events={'a', 'b'},\n",
    "              trans={Transition(1, 'a', 2), Transition(2, 'b', 3)})\n",
    "Sp = Automaton(states={1, 2},\n",
    "               init=1,\n",
    "               events={'a'},\n",
    "               trans={Transition(1, 'a', 2)})\n",
    "S = supervisor(P, Sp, set())\n",
    "assert S.states == {'1.1', '2.2', '3.2'}, 'TC 1.1 - got {} instead'.format(S.states)\n",
    "assert S.init == '1.1', 'TC 1.2 - got {} instead'.format(S.init)\n",
    "assert S.events == {'a', 'b'}, 'TC 1.3 - got {} instead'.format(S.events)\n",
    "assert S.forbidden == set(), 'TC 1.4 - got {} instead'.format(S.forbidden)\n",
    "\n",
    "# Test case 2 - Three states and an uncontrolable event\n",
    "P = Automaton(states={1, 2, 3},\n",
    "              init=1,\n",
    "              events={'a', 'b'},\n",
    "              trans={Transition(1, 'a', 2), Transition(2, 'b', 3)})\n",
    "Sp = Automaton(states={1, 2},\n",
    "               init=1,\n",
    "               events={'a', 'b'},\n",
    "               trans={Transition(1, 'a', 2)})\n",
    "S = supervisor(P, Sp, {'b'})\n",
    "assert S.states == {'1.1'}, 'TC 2.1 - got {} instead'.format(S.states)\n",
    "assert S.init == '1.1', 'TC 2.2 - got {} instead'.format(S.init)\n",
    "assert S.events == {'a', 'b'}, 'TC 2.3 - got {} instead'.format(S.events)\n",
    "assert S.forbidden == set(), 'TC 2.4 - got {} instead'.format(S.forbidden)\n",
    "\n",
    "# Test case 3 - Two uncontrollable transitions in a sequence\n",
    "P = Automaton(states={1, 2, 3, 4},\n",
    "              init=1,\n",
    "              events={'a', 'b'},\n",
    "              trans={Transition(1, 'a', 2), Transition(2, 'b', 3), Transition(3, 'b', 4)})\n",
    "Sp1 = Automaton(states={1, 2, 3, 4},\n",
    "                init=1,\n",
    "                events={'a', 'b'},\n",
    "                trans={Transition(1, 'a', 2), Transition(2, 'b', 3), Transition(3, 'b', 4)},\n",
    "                marked={1, 2})\n",
    "Sp2 = Automaton(states={1, 2, 3, 4},\n",
    "                init=1,\n",
    "                events={'a', 'b'},\n",
    "                trans={Transition(1, 'a', 2), Transition(2, 'b', 3), Transition(3, 'b', 4)},\n",
    "                marked={1, 2})\n",
    "S = supervisor(P, Sp1, {'b'})\n",
    "assert S == supervisor(P, Sp2, {'b'})\n",
    "assert S.states == {'1.1'}, 'TC 3.1 - got {} instead'.format(S.states)\n",
    "assert S.init == '1.1', 'TC 3.2 - got {} instead'.format(S.init)\n",
    "assert S.events == {'a', 'b'}, 'TC 3.3 - got {} instead'.format(S.events)\n",
    "assert S.trans == set(), 'TC 3.4 - got {} instead'.format(S.trans)\n",
    "assert S.forbidden == set(), 'TC 3.4 - got {} instead'.format(S.forbidden)"
   ]
  },
  {
   "cell_type": "markdown",
   "metadata": {
    "deletable": false,
    "editable": false,
    "nbgrader": {
     "checksum": "d11fe46a5b8dc42a36e20f63dabc85b7",
     "grade": false,
     "grade_id": "cell-c55d42dab3dd9445",
     "locked": true,
     "schema_version": 1,
     "solution": false
    }
   },
   "source": [
    "---"
   ]
  },
  {
   "cell_type": "markdown",
   "metadata": {
    "deletable": false,
    "editable": false,
    "nbgrader": {
     "checksum": "348a78c8c716a194d0ebc9cfdd26e1d5",
     "grade": false,
     "grade_id": "cell-a08b96ce1c4b191f",
     "locked": true,
     "schema_version": 1,
     "solution": false
    }
   },
   "source": [
    "# Task 3\n",
    "\n",
    "Evaluate the implementation in Task 1 by generating a nonblocking and controllable supervisor $S$ for the plant and specification models given in \n",
    "\n",
    "* Example 7.5 on p. 113 in the Lecture Notes. **[1p]**\n",
    "\n",
    "* Example 7.6 on p. 114 in the Lecture Notes. **[1p]**\n",
    "\n",
    "* Task 3 in the Exam Oct 24, 2015. **[1p]**"
   ]
  },
  {
   "cell_type": "markdown",
   "metadata": {
    "deletable": false,
    "editable": false,
    "nbgrader": {
     "checksum": "d0819d313a90c080e92f39dc5f6d1801",
     "grade": false,
     "grade_id": "cell-edcd7a107a198eb6",
     "locked": true,
     "schema_version": 1,
     "solution": false
    }
   },
   "source": [
    "## Example 7.5"
   ]
  },
  {
   "cell_type": "code",
   "execution_count": 17,
   "metadata": {
    "deletable": false,
    "nbgrader": {
     "checksum": "fa81a8199ab4854b5aab55e04a3800cf",
     "grade": false,
     "grade_id": "ex7_5",
     "locked": false,
     "schema_version": 1,
     "solution": true
    }
   },
   "outputs": [
    {
     "data": {
      "image/png": "[encoded data removed]",
      "text/plain": [
       "<IPython.core.display.Image object>"
      ]
     },
     "execution_count": 17,
     "metadata": {},
     "output_type": "execute_result"
    }
   ],
   "source": [
    "P1 = Automaton(states={'p11', 'p12'},\n",
    "                init='p11',\n",
    "                events={'a', 'b'},\n",
    "                trans={Transition('p11', 'a', 'p12'), Transition('p12', 'b', 'p11')})\n",
    "\n",
    "P2 = Automaton(states={'p21', 'p22'},\n",
    "                init='p21',\n",
    "                events={'c', 'd','e'},\n",
    "                trans={Transition('p21', 'c', 'p22'), Transition('p22', 'd', 'p21'),Transition('p22', 'e', 'p21')})\n",
    "\n",
    "SP1 = Automaton(states={'sp11', 'sp12'},\n",
    "                init='sp11',\n",
    "                events={'b', 'c'},\n",
    "                trans={Transition('sp11', 'b', 'sp12'), Transition('sp12', 'c', 'sp11')},\n",
    "                marked={'sp11'})\n",
    "\n",
    "SP2 = Automaton(states={'sp21', 'sp22'},\n",
    "                init='sp21',\n",
    "                events={'c', 'd'},\n",
    "                trans={Transition('sp21', 'c', 'sp22'), Transition('sp22', 'd', 'sp21')},\n",
    "                marked={'sp21'})\n",
    "\n",
    "Sp = synch(SP1, SP2)\n",
    "P = synch(P1, P2)\n",
    "\n",
    "S = supervisor(P, Sp, {'b'})\n",
    "plot_automaton(S, 'S_7dot5')"
   ]
  },
  {
   "cell_type": "code",
   "execution_count": 18,
   "metadata": {
    "deletable": false,
    "editable": false,
    "nbgrader": {
     "checksum": "0d1405a5fec91e165a404aed9cbe0e39",
     "grade": true,
     "grade_id": "ex7_5_test",
     "locked": true,
     "points": 1,
     "schema_version": 1,
     "solution": false
    }
   },
   "outputs": [],
   "source": [
    "assert type(S) is Automaton\n",
    "\n",
    "# This is optional but simplifies the testing\n",
    "p1_states = {'p11', 'p12'}\n",
    "p2_states = {'p21', 'p22'}\n",
    "sp1_states = {'sp11', 'sp12'}\n",
    "sp2_states = {'sp21', 'sp22'}\n",
    "events = {'a', 'b', 'c', 'd', 'e'}\n",
    "assert all({s[0:3] in p1_states and s[4:7] in p2_states and s[8:12] in sp1_states and s[13:17] in sp2_states \n",
    "            for s in S.states}), 'This is optional but, to simplify the tests, \\\n",
    "            please use only the state name from the example and synchronize in the same order, \\\n",
    "            i.e init state would be p1.p2.sp1.sp2'\n",
    "assert all({e in events for e in S.events}), 'This is optional but, to simplify the tests, \\\n",
    "            please use only the event labels from the example.'"
   ]
  },
  {
   "cell_type": "markdown",
   "metadata": {
    "deletable": false,
    "editable": false,
    "nbgrader": {
     "checksum": "d4a447b5a98d1d87d1a334ec30e7a062",
     "grade": false,
     "grade_id": "cell-7835131a138edbf4",
     "locked": true,
     "schema_version": 1,
     "solution": false
    }
   },
   "source": [
    "## Example 7.6"
   ]
  },
  {
   "cell_type": "code",
   "execution_count": 19,
   "metadata": {
    "deletable": false,
    "nbgrader": {
     "checksum": "e07132244c88af262446e6524cf6907c",
     "grade": false,
     "grade_id": "ex7_6",
     "locked": false,
     "schema_version": 1,
     "solution": true
    }
   },
   "outputs": [
    {
     "data": {
      "image/png": "[encoded data removed]",
      "text/plain": [
       "<IPython.core.display.Image object>"
      ]
     },
     "execution_count": 19,
     "metadata": {},
     "output_type": "execute_result"
    }
   ],
   "source": [
    "P = Automaton(states={'p1', 'p2', 'p3', 'p4', 'p5', 'p6', 'p7', 'p8'},\n",
    "              init='p1',\n",
    "              events={'a', 'b', 'c', 'd'},\n",
    "              trans={Transition('p1','a','p2'), Transition('p1','c','p3'), Transition('p2','d','p5'),\n",
    "                     Transition('p3','d','p4'), Transition('p5','a','p6'),Transition('p6','b','p4'),\n",
    "                     Transition('p6','d','p7'), Transition('p7','d','p8')},\n",
    "              marked={'p4'})\n",
    "\n",
    "Sp = Automaton(states={'q1', 'q2', 'q3', 'q4', 'q5', 'q6', 'q7', 'q8'},\n",
    "              init='q1',\n",
    "              events={'a', 'b', 'c', 'd'},\n",
    "              trans={Transition('q1','a','q2'), Transition('q1','c','q3'), Transition('q2','d','q5'),\n",
    "                     Transition('q3','d','q4'), Transition('q5','a','q6'),Transition('q6','b','q4'),\n",
    "                     Transition('q6','d','q7')},\n",
    "              marked={'q4'})\n",
    "\n",
    "\n",
    "    \n",
    "\n",
    "\n",
    "S = supervisor(P, Sp, {'d'})\n",
    "plot_automaton(S, 'S_7dot6')"
   ]
  },
  {
   "cell_type": "code",
   "execution_count": 20,
   "metadata": {
    "deletable": false,
    "editable": false,
    "nbgrader": {
     "checksum": "3b75580955333ea94ea0d7753a10ffa4",
     "grade": true,
     "grade_id": "ex7_6_test",
     "locked": true,
     "points": 1,
     "schema_version": 1,
     "solution": false
    }
   },
   "outputs": [],
   "source": [
    "assert type(S) is Automaton\n",
    "\n",
    "# These tests are optional but simplify the hidden tests\n",
    "p_states = {'p1', 'p2', 'p3', 'p4', 'p5', 'p6', 'p7', 'p8'}\n",
    "q_states = {'q1', 'q2', 'q3', 'q4', 'q5', 'q6', 'q7'}\n",
    "events = {'a', 'b', 'c', 'd'}\n",
    "assert all({s.startswith(tuple(p_states)) and s.endswith(tuple(q_states)) for s in S.states}), '\\\n",
    "    This is optional but, to simplify the tests, please use only the state name from the example \\\n",
    "    and synchronize in the same order, i.e init state would be p1.q1'\n",
    "assert all({e in events for e in S.events}), '\\\n",
    "    This is optional but, to simplify the tests, please use only the event labels from the example.'"
   ]
  },
  {
   "cell_type": "markdown",
   "metadata": {
    "deletable": false,
    "editable": false,
    "nbgrader": {
     "checksum": "113658c22e8926da983d690cf28a32dc",
     "grade": false,
     "grade_id": "cell-d0937fdde76dec34",
     "locked": true,
     "schema_version": 1,
     "solution": false
    }
   },
   "source": [
    "## Exam Oct 2015 - Task 3"
   ]
  },
  {
   "cell_type": "code",
   "execution_count": 21,
   "metadata": {
    "deletable": false,
    "nbgrader": {
     "checksum": "3dc0db00d5421f8692b22a4dd1a3e55d",
     "grade": false,
     "grade_id": "task3_15",
     "locked": false,
     "schema_version": 1,
     "solution": true
    }
   },
   "outputs": [
    {
     "data": {
      "image/png": "[encoded data removed]",
      "text/plain": [
       "<IPython.core.display.Image object>"
      ]
     },
     "execution_count": 21,
     "metadata": {},
     "output_type": "execute_result"
    }
   ],
   "source": [
    "P = Automaton(states={'p1', 'p2', 'p3', 'p4', 'p5', 'p6', 'p7', 'p8','p9'},\n",
    "              init='p1',\n",
    "              events={'a', 'b', 'c', 'd','e'},\n",
    "              trans={Transition('p1','a','p2'), Transition('p1','c','p3'), Transition('p1','b','p4'),\n",
    "                     Transition('p2','c','p5'), Transition('p3','d','p6'),Transition('p4','c','p7'),\n",
    "                     Transition('p5','b','p6'), Transition('p5','d','p6'),Transition('p7','a','p6'),\n",
    "                     Transition('p7','e','p8'),Transition('p8','c','p9'),Transition('p9','d','p6')})\n",
    "\n",
    "Sp = Automaton(states={'q1', 'q2', 'q3', 'q4'},\n",
    "              init='q1',\n",
    "              events={'a', 'b', 'd'},\n",
    "              trans={Transition('q1','a','q2'), Transition('q1','b','q3'), Transition('q1','d','q4'),\n",
    "                     Transition('q3','a','q4'), Transition('q2','b','q4')},\n",
    "              marked={'q4'})\n",
    "\n",
    "\n",
    "S = supervisor(P, Sp, {'d', 'e'})\n",
    "plot_automaton(S, 'S_3_15')"
   ]
  },
  {
   "cell_type": "code",
   "execution_count": 22,
   "metadata": {
    "deletable": false,
    "editable": false,
    "nbgrader": {
     "checksum": "081251fca22bf6eda2ba05618a373f1d",
     "grade": true,
     "grade_id": "task3_15_test",
     "locked": true,
     "points": 1,
     "schema_version": 1,
     "solution": false
    }
   },
   "outputs": [],
   "source": [
    "assert type(S) is Automaton"
   ]
  },
  {
   "cell_type": "markdown",
   "metadata": {
    "deletable": false,
    "editable": false,
    "nbgrader": {
     "checksum": "cd16eff0e124061cc7e9ec74e4c7d589",
     "grade": false,
     "grade_id": "cell-ec841dd5404b6a9b",
     "locked": true,
     "schema_version": 1,
     "solution": false
    }
   },
   "source": [
    "---"
   ]
  },
  {
   "cell_type": "markdown",
   "metadata": {
    "deletable": false,
    "editable": false,
    "nbgrader": {
     "checksum": "7f4f068072b7aaa7ac371abcb2236602",
     "grade": false,
     "grade_id": "cell-95f78bff0e316da3",
     "locked": true,
     "schema_version": 1,
     "solution": false
    }
   },
   "source": [
    "# Task 4 *[2p]*\n",
    "\n",
    "Two people named **A** and **B** are playing a simple game. A number of sticks are lain\n",
    "out on the ground and the players take alternately one or two sticks. Note that at least\n",
    "one stick must be picked. The player that ends up with the last stick has lost the game.\n",
    "Player **A** is always the one that starts picking sticks. A related problem is introduced\n",
    "in Task 6.3 in the DES-exercises.\n",
    "\n",
    "* Model this game by an automaton `P`, with an initial number of five sticks. Hint: identify the events and the states.\n",
    "\n",
    "* Create a specification `Sp` by introducing a marked state in `P`, specifying that player **A** is to win and player **B** is to loose. Remember that the player left with only the final stick to pick, is the loser.\n",
    "\n",
    "* Generate by the algorithm in *Task 1* a supervisor `S` which guarantees that player **A** wins the game, i.e `S = supervisor(P, Sp, sigma_u)`. *Note* that the set of uncontrollable events `sigma_u` must first be decided."
   ]
  },
  {
   "cell_type": "code",
   "execution_count": 23,
   "metadata": {
    "deletable": false,
    "nbgrader": {
     "checksum": "9948cb6a4a9a2a32fc955f31f1ed47a3",
     "grade": false,
     "grade_id": "task4",
     "locked": false,
     "schema_version": 1,
     "solution": true
    }
   },
   "outputs": [
    {
     "data": {
      "image/png": "[encoded data removed]",
      "text/plain": [
       "<IPython.core.display.Image object>"
      ]
     },
     "execution_count": 23,
     "metadata": {},
     "output_type": "execute_result"
    }
   ],
   "source": [
    "P = Automaton(states={'5A','4B','3A','2B','1A','0B','3B','2A','1B','0A'},\n",
    "              events={'a1','a2','b1','b2'},\n",
    "              init='5A',\n",
    "              trans={Transition('5A','a1','4B'), Transition('4B','b1','3A'), Transition('3A','a1','2B'),\n",
    "                    Transition('2B','b1','1A'), Transition('1A','a1','0B'), Transition('5A','a2','3B'),\n",
    "                    Transition('3B','b1','2A'), Transition('4B', 'b2', '2A'), Transition('2A','a1','1B'),\n",
    "                    Transition('3A','a2','1B'), Transition('1B', 'b1', '0A'), Transition('2B','b2','0A'),\n",
    "                    Transition('3B','b2','1A'), Transition('2A','a2','0B')})\n",
    "\n",
    "Sp = Automaton(states={'5A','4B','3A','2B','1A','0B','3B','2A','1B','0A'},\n",
    "              events={'a1','a2','b1','b2'},\n",
    "              init='5A',\n",
    "              trans={Transition('5A','a1','4B'), Transition('4B','b1','3A'), Transition('3A','a1','2B'),\n",
    "                    Transition('2B','b1','1A'), Transition('1A','a1','0B'), Transition('5A','a2','3B'),\n",
    "                    Transition('3B','b1','2A'), Transition('4B', 'b2', '2A'), Transition('2A','a1','1B'),\n",
    "                    Transition('3A','a2','1B'), Transition('1B', 'b1', '0A'), Transition('2B','b2','0A'),\n",
    "                    Transition('3B','b2','1A'), Transition('2A','a2','0B')},\n",
    "              marked={'0A'})\n",
    "sigma_u = {'b1','b2'}\n",
    "S = supervisor(P, Sp, sigma_u)\n",
    "plot_automaton(S, 'S_3_15')"
   ]
  },
  {
   "cell_type": "code",
   "execution_count": 24,
   "metadata": {
    "deletable": false,
    "editable": false,
    "nbgrader": {
     "checksum": "d74bceebb5f9be6a597ef9a016a901f4",
     "grade": true,
     "grade_id": "task4_test",
     "locked": true,
     "points": 2,
     "schema_version": 1,
     "solution": false
    }
   },
   "outputs": [],
   "source": [
    "assert type(P) is Automaton\n",
    "assert type(Sp) is Automaton\n",
    "assert type(S) is Automaton\n",
    "\n",
    "assert P.states == Sp.states\n",
    "assert P.events == Sp.events\n",
    "assert P.init == Sp.init\n",
    "assert P.trans == Sp.trans\n",
    "assert P.marked == set() or P.marked == P.states\n",
    "assert len(Sp.marked) == 1"
   ]
  },
  {
   "cell_type": "markdown",
   "metadata": {
    "deletable": false,
    "editable": false,
    "nbgrader": {
     "checksum": "e4f28d85a3e1c01330d98f49f014418f",
     "grade": false,
     "grade_id": "cell-ca4413be58012d08",
     "locked": true,
     "schema_version": 1,
     "solution": false
    }
   },
   "source": [
    "- - -\n",
    "\n",
    "Great! You have reached the bottom of the page. If you are done,\n",
    "\n",
    "* Save the notebook\n",
    "* Upload the .ipynb file to Canvas\n",
    "* Go for fika! "
   ]
  }
 ],
 "metadata": {
  "kernelspec": {
   "display_name": "Python 3",
   "language": "python",
   "name": "python3"
  },
  "language_info": {
   "codemirror_mode": {
    "name": "ipython",
    "version": 3
   },
   "file_extension": ".py",
   "mimetype": "text/x-python",
   "name": "python",
   "nbconvert_exporter": "python",
   "pygments_lexer": "ipython3",
   "version": "3.7.1"
  },
  "latex_envs": {
   "LaTeX_envs_menu_present": true,
   "autoclose": false,
   "autocomplete": true,
   "bibliofile": "biblio.bib",
   "cite_by": "apalike",
   "current_citInitial": 1,
   "eqLabelWithNumbers": true,
   "eqNumInitial": 1,
   "hotkeys": {
    "equation": "Ctrl-E",
    "itemize": "Ctrl-I"
   },
   "labels_anchors": false,
   "latex_user_defs": false,
   "report_style_numbering": false,
   "user_envs_cfg": false
  }
 },
 "nbformat": 4,
 "nbformat_minor": 2
}
